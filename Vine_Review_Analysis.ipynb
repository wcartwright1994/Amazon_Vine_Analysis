{
 "cells": [
  {
   "cell_type": "code",
   "execution_count": 1,
   "id": "a3c7c3c5",
   "metadata": {},
   "outputs": [],
   "source": [
    "import pandas as pd\n",
    "import numpy as np"
   ]
  },
  {
   "cell_type": "code",
   "execution_count": 2,
   "id": "73078bdb",
   "metadata": {},
   "outputs": [
    {
     "data": {
      "text/html": [
       "<div>\n",
       "<style scoped>\n",
       "    .dataframe tbody tr th:only-of-type {\n",
       "        vertical-align: middle;\n",
       "    }\n",
       "\n",
       "    .dataframe tbody tr th {\n",
       "        vertical-align: top;\n",
       "    }\n",
       "\n",
       "    .dataframe thead th {\n",
       "        text-align: right;\n",
       "    }\n",
       "</style>\n",
       "<table border=\"1\" class=\"dataframe\">\n",
       "  <thead>\n",
       "    <tr style=\"text-align: right;\">\n",
       "      <th></th>\n",
       "      <th>review_id</th>\n",
       "      <th>star_rating</th>\n",
       "      <th>helpful_votes</th>\n",
       "      <th>total_votes</th>\n",
       "      <th>vine</th>\n",
       "      <th>verified_purchase</th>\n",
       "    </tr>\n",
       "  </thead>\n",
       "  <tbody>\n",
       "    <tr>\n",
       "      <th>0</th>\n",
       "      <td>R1WBPB8MDCCN8F</td>\n",
       "      <td>5</td>\n",
       "      <td>0.0</td>\n",
       "      <td>0.0</td>\n",
       "      <td>N</td>\n",
       "      <td>N</td>\n",
       "    </tr>\n",
       "    <tr>\n",
       "      <th>1</th>\n",
       "      <td>R32M0YEWV77XG8</td>\n",
       "      <td>5</td>\n",
       "      <td>1.0</td>\n",
       "      <td>1.0</td>\n",
       "      <td>N</td>\n",
       "      <td>Y</td>\n",
       "    </tr>\n",
       "    <tr>\n",
       "      <th>2</th>\n",
       "      <td>RR8V7WR27NXJ5</td>\n",
       "      <td>1</td>\n",
       "      <td>0.0</td>\n",
       "      <td>0.0</td>\n",
       "      <td>N</td>\n",
       "      <td>Y</td>\n",
       "    </tr>\n",
       "    <tr>\n",
       "      <th>3</th>\n",
       "      <td>R1MHO5V9Z932AY</td>\n",
       "      <td>5</td>\n",
       "      <td>0.0</td>\n",
       "      <td>0.0</td>\n",
       "      <td>N</td>\n",
       "      <td>Y</td>\n",
       "    </tr>\n",
       "    <tr>\n",
       "      <th>4</th>\n",
       "      <td>R16PD71086BD2V</td>\n",
       "      <td>5</td>\n",
       "      <td>0.0</td>\n",
       "      <td>1.0</td>\n",
       "      <td>N</td>\n",
       "      <td>N</td>\n",
       "    </tr>\n",
       "  </tbody>\n",
       "</table>\n",
       "</div>"
      ],
      "text/plain": [
       "        review_id star_rating  helpful_votes  total_votes vine  \\\n",
       "0  R1WBPB8MDCCN8F           5            0.0          0.0    N   \n",
       "1  R32M0YEWV77XG8           5            1.0          1.0    N   \n",
       "2   RR8V7WR27NXJ5           1            0.0          0.0    N   \n",
       "3  R1MHO5V9Z932AY           5            0.0          0.0    N   \n",
       "4  R16PD71086BD2V           5            0.0          1.0    N   \n",
       "\n",
       "  verified_purchase  \n",
       "0                 N  \n",
       "1                 Y  \n",
       "2                 Y  \n",
       "3                 Y  \n",
       "4                 N  "
      ]
     },
     "execution_count": 2,
     "metadata": {},
     "output_type": "execute_result"
    }
   ],
   "source": [
    "# File Path Parameters\n",
    "file_path = r'C:\\Users\\billy\\Amazon_Vine_Analysis'\n",
    "file_name = 'vine_table.csv'\n",
    "\n",
    "# Set full path and read in csv table\n",
    "full_path = f'{file_path}\\\\{file_name}'\n",
    "\n",
    "vine_df = pd.read_csv(full_path, low_memory=False)\n",
    "\n",
    "vine_df.head()"
   ]
  },
  {
   "cell_type": "code",
   "execution_count": 3,
   "id": "f68b8752",
   "metadata": {},
   "outputs": [
    {
     "data": {
      "text/plain": [
       "review_id             object\n",
       "star_rating           object\n",
       "helpful_votes        float64\n",
       "total_votes          float64\n",
       "vine                  object\n",
       "verified_purchase     object\n",
       "dtype: object"
      ]
     },
     "execution_count": 3,
     "metadata": {},
     "output_type": "execute_result"
    }
   ],
   "source": [
    "# Check data types\n",
    "vine_df.dtypes"
   ]
  },
  {
   "cell_type": "code",
   "execution_count": 4,
   "id": "501fa965",
   "metadata": {},
   "outputs": [
    {
     "data": {
      "text/html": [
       "<div>\n",
       "<style scoped>\n",
       "    .dataframe tbody tr th:only-of-type {\n",
       "        vertical-align: middle;\n",
       "    }\n",
       "\n",
       "    .dataframe tbody tr th {\n",
       "        vertical-align: top;\n",
       "    }\n",
       "\n",
       "    .dataframe thead th {\n",
       "        text-align: right;\n",
       "    }\n",
       "</style>\n",
       "<table border=\"1\" class=\"dataframe\">\n",
       "  <thead>\n",
       "    <tr style=\"text-align: right;\">\n",
       "      <th></th>\n",
       "      <th>review_id</th>\n",
       "      <th>star_rating</th>\n",
       "      <th>helpful_votes</th>\n",
       "      <th>total_votes</th>\n",
       "      <th>vine</th>\n",
       "      <th>verified_purchase</th>\n",
       "    </tr>\n",
       "  </thead>\n",
       "  <tbody>\n",
       "    <tr>\n",
       "      <th>326</th>\n",
       "      <td>R1B4753QMTD8ON</td>\n",
       "      <td>5</td>\n",
       "      <td>32.0</td>\n",
       "      <td>32.0</td>\n",
       "      <td>N</td>\n",
       "      <td>N</td>\n",
       "    </tr>\n",
       "    <tr>\n",
       "      <th>662</th>\n",
       "      <td>R28BVHOEL6GCHZ</td>\n",
       "      <td>5</td>\n",
       "      <td>21.0</td>\n",
       "      <td>21.0</td>\n",
       "      <td>N</td>\n",
       "      <td>Y</td>\n",
       "    </tr>\n",
       "    <tr>\n",
       "      <th>1055</th>\n",
       "      <td>R27IB4BRKO71I0</td>\n",
       "      <td>2</td>\n",
       "      <td>16.0</td>\n",
       "      <td>20.0</td>\n",
       "      <td>N</td>\n",
       "      <td>Y</td>\n",
       "    </tr>\n",
       "    <tr>\n",
       "      <th>1225</th>\n",
       "      <td>RJ86OW12Y4NRL</td>\n",
       "      <td>5</td>\n",
       "      <td>124.0</td>\n",
       "      <td>128.0</td>\n",
       "      <td>N</td>\n",
       "      <td>Y</td>\n",
       "    </tr>\n",
       "    <tr>\n",
       "      <th>1448</th>\n",
       "      <td>R3KRABOWCH6ZE4</td>\n",
       "      <td>1</td>\n",
       "      <td>48.0</td>\n",
       "      <td>65.0</td>\n",
       "      <td>N</td>\n",
       "      <td>Y</td>\n",
       "    </tr>\n",
       "  </tbody>\n",
       "</table>\n",
       "</div>"
      ],
      "text/plain": [
       "           review_id star_rating  helpful_votes  total_votes vine  \\\n",
       "326   R1B4753QMTD8ON           5           32.0         32.0    N   \n",
       "662   R28BVHOEL6GCHZ           5           21.0         21.0    N   \n",
       "1055  R27IB4BRKO71I0           2           16.0         20.0    N   \n",
       "1225   RJ86OW12Y4NRL           5          124.0        128.0    N   \n",
       "1448  R3KRABOWCH6ZE4           1           48.0         65.0    N   \n",
       "\n",
       "     verified_purchase  \n",
       "326                  N  \n",
       "662                  Y  \n",
       "1055                 Y  \n",
       "1225                 Y  \n",
       "1448                 Y  "
      ]
     },
     "execution_count": 4,
     "metadata": {},
     "output_type": "execute_result"
    }
   ],
   "source": [
    "# Step 1\n",
    "filter_1_df = vine_df[vine_df['total_votes'] >= 20]\n",
    "filter_1_df.head()"
   ]
  },
  {
   "cell_type": "code",
   "execution_count": 5,
   "id": "5a4e871a",
   "metadata": {},
   "outputs": [
    {
     "data": {
      "text/html": [
       "<div>\n",
       "<style scoped>\n",
       "    .dataframe tbody tr th:only-of-type {\n",
       "        vertical-align: middle;\n",
       "    }\n",
       "\n",
       "    .dataframe tbody tr th {\n",
       "        vertical-align: top;\n",
       "    }\n",
       "\n",
       "    .dataframe thead th {\n",
       "        text-align: right;\n",
       "    }\n",
       "</style>\n",
       "<table border=\"1\" class=\"dataframe\">\n",
       "  <thead>\n",
       "    <tr style=\"text-align: right;\">\n",
       "      <th></th>\n",
       "      <th>review_id</th>\n",
       "      <th>star_rating</th>\n",
       "      <th>helpful_votes</th>\n",
       "      <th>total_votes</th>\n",
       "      <th>vine</th>\n",
       "      <th>verified_purchase</th>\n",
       "    </tr>\n",
       "  </thead>\n",
       "  <tbody>\n",
       "    <tr>\n",
       "      <th>326</th>\n",
       "      <td>R1B4753QMTD8ON</td>\n",
       "      <td>5</td>\n",
       "      <td>32.0</td>\n",
       "      <td>32.0</td>\n",
       "      <td>N</td>\n",
       "      <td>N</td>\n",
       "    </tr>\n",
       "    <tr>\n",
       "      <th>662</th>\n",
       "      <td>R28BVHOEL6GCHZ</td>\n",
       "      <td>5</td>\n",
       "      <td>21.0</td>\n",
       "      <td>21.0</td>\n",
       "      <td>N</td>\n",
       "      <td>Y</td>\n",
       "    </tr>\n",
       "    <tr>\n",
       "      <th>1055</th>\n",
       "      <td>R27IB4BRKO71I0</td>\n",
       "      <td>2</td>\n",
       "      <td>16.0</td>\n",
       "      <td>20.0</td>\n",
       "      <td>N</td>\n",
       "      <td>Y</td>\n",
       "    </tr>\n",
       "    <tr>\n",
       "      <th>1225</th>\n",
       "      <td>RJ86OW12Y4NRL</td>\n",
       "      <td>5</td>\n",
       "      <td>124.0</td>\n",
       "      <td>128.0</td>\n",
       "      <td>N</td>\n",
       "      <td>Y</td>\n",
       "    </tr>\n",
       "    <tr>\n",
       "      <th>1448</th>\n",
       "      <td>R3KRABOWCH6ZE4</td>\n",
       "      <td>1</td>\n",
       "      <td>48.0</td>\n",
       "      <td>65.0</td>\n",
       "      <td>N</td>\n",
       "      <td>Y</td>\n",
       "    </tr>\n",
       "  </tbody>\n",
       "</table>\n",
       "</div>"
      ],
      "text/plain": [
       "           review_id star_rating  helpful_votes  total_votes vine  \\\n",
       "326   R1B4753QMTD8ON           5           32.0         32.0    N   \n",
       "662   R28BVHOEL6GCHZ           5           21.0         21.0    N   \n",
       "1055  R27IB4BRKO71I0           2           16.0         20.0    N   \n",
       "1225   RJ86OW12Y4NRL           5          124.0        128.0    N   \n",
       "1448  R3KRABOWCH6ZE4           1           48.0         65.0    N   \n",
       "\n",
       "     verified_purchase  \n",
       "326                  N  \n",
       "662                  Y  \n",
       "1055                 Y  \n",
       "1225                 Y  \n",
       "1448                 Y  "
      ]
     },
     "execution_count": 5,
     "metadata": {},
     "output_type": "execute_result"
    }
   ],
   "source": [
    "# Step 2\n",
    "filter_2_df = filter_1_df[filter_1_df['helpful_votes']/filter_1_df['total_votes'] >= .5]\n",
    "filter_2_df.head()"
   ]
  },
  {
   "cell_type": "code",
   "execution_count": 6,
   "id": "da26bed0",
   "metadata": {},
   "outputs": [
    {
     "data": {
      "text/html": [
       "<div>\n",
       "<style scoped>\n",
       "    .dataframe tbody tr th:only-of-type {\n",
       "        vertical-align: middle;\n",
       "    }\n",
       "\n",
       "    .dataframe tbody tr th {\n",
       "        vertical-align: top;\n",
       "    }\n",
       "\n",
       "    .dataframe thead th {\n",
       "        text-align: right;\n",
       "    }\n",
       "</style>\n",
       "<table border=\"1\" class=\"dataframe\">\n",
       "  <thead>\n",
       "    <tr style=\"text-align: right;\">\n",
       "      <th></th>\n",
       "      <th>review_id</th>\n",
       "      <th>star_rating</th>\n",
       "      <th>helpful_votes</th>\n",
       "      <th>total_votes</th>\n",
       "      <th>vine</th>\n",
       "      <th>verified_purchase</th>\n",
       "    </tr>\n",
       "  </thead>\n",
       "  <tbody>\n",
       "    <tr>\n",
       "      <th>5506</th>\n",
       "      <td>R32OMS1LSDRCOB</td>\n",
       "      <td>4</td>\n",
       "      <td>27.0</td>\n",
       "      <td>31.0</td>\n",
       "      <td>Y</td>\n",
       "      <td>N</td>\n",
       "    </tr>\n",
       "    <tr>\n",
       "      <th>24578</th>\n",
       "      <td>R2IPKK4I0XRCFR</td>\n",
       "      <td>4</td>\n",
       "      <td>16.0</td>\n",
       "      <td>21.0</td>\n",
       "      <td>Y</td>\n",
       "      <td>N</td>\n",
       "    </tr>\n",
       "    <tr>\n",
       "      <th>58364</th>\n",
       "      <td>RXYYJ8SGI9IX6</td>\n",
       "      <td>5</td>\n",
       "      <td>36.0</td>\n",
       "      <td>41.0</td>\n",
       "      <td>Y</td>\n",
       "      <td>N</td>\n",
       "    </tr>\n",
       "    <tr>\n",
       "      <th>63194</th>\n",
       "      <td>R1SAUBFC7T6JHC</td>\n",
       "      <td>5</td>\n",
       "      <td>73.0</td>\n",
       "      <td>75.0</td>\n",
       "      <td>Y</td>\n",
       "      <td>N</td>\n",
       "    </tr>\n",
       "    <tr>\n",
       "      <th>177724</th>\n",
       "      <td>R329HVJKKHWSG3</td>\n",
       "      <td>5</td>\n",
       "      <td>59.0</td>\n",
       "      <td>59.0</td>\n",
       "      <td>Y</td>\n",
       "      <td>N</td>\n",
       "    </tr>\n",
       "  </tbody>\n",
       "</table>\n",
       "</div>"
      ],
      "text/plain": [
       "             review_id star_rating  helpful_votes  total_votes vine  \\\n",
       "5506    R32OMS1LSDRCOB           4           27.0         31.0    Y   \n",
       "24578   R2IPKK4I0XRCFR           4           16.0         21.0    Y   \n",
       "58364    RXYYJ8SGI9IX6           5           36.0         41.0    Y   \n",
       "63194   R1SAUBFC7T6JHC           5           73.0         75.0    Y   \n",
       "177724  R329HVJKKHWSG3           5           59.0         59.0    Y   \n",
       "\n",
       "       verified_purchase  \n",
       "5506                   N  \n",
       "24578                  N  \n",
       "58364                  N  \n",
       "63194                  N  \n",
       "177724                 N  "
      ]
     },
     "execution_count": 6,
     "metadata": {},
     "output_type": "execute_result"
    }
   ],
   "source": [
    "# Step 3\n",
    "filter_3_df = filter_2_df[filter_2_df['vine'] == 'Y']\n",
    "filter_3_df.head()"
   ]
  },
  {
   "cell_type": "code",
   "execution_count": 7,
   "id": "ede7b6f1",
   "metadata": {},
   "outputs": [
    {
     "data": {
      "text/html": [
       "<div>\n",
       "<style scoped>\n",
       "    .dataframe tbody tr th:only-of-type {\n",
       "        vertical-align: middle;\n",
       "    }\n",
       "\n",
       "    .dataframe tbody tr th {\n",
       "        vertical-align: top;\n",
       "    }\n",
       "\n",
       "    .dataframe thead th {\n",
       "        text-align: right;\n",
       "    }\n",
       "</style>\n",
       "<table border=\"1\" class=\"dataframe\">\n",
       "  <thead>\n",
       "    <tr style=\"text-align: right;\">\n",
       "      <th></th>\n",
       "      <th>review_id</th>\n",
       "      <th>star_rating</th>\n",
       "      <th>helpful_votes</th>\n",
       "      <th>total_votes</th>\n",
       "      <th>vine</th>\n",
       "      <th>verified_purchase</th>\n",
       "    </tr>\n",
       "  </thead>\n",
       "  <tbody>\n",
       "    <tr>\n",
       "      <th>326</th>\n",
       "      <td>R1B4753QMTD8ON</td>\n",
       "      <td>5</td>\n",
       "      <td>32.0</td>\n",
       "      <td>32.0</td>\n",
       "      <td>N</td>\n",
       "      <td>N</td>\n",
       "    </tr>\n",
       "    <tr>\n",
       "      <th>662</th>\n",
       "      <td>R28BVHOEL6GCHZ</td>\n",
       "      <td>5</td>\n",
       "      <td>21.0</td>\n",
       "      <td>21.0</td>\n",
       "      <td>N</td>\n",
       "      <td>Y</td>\n",
       "    </tr>\n",
       "    <tr>\n",
       "      <th>1055</th>\n",
       "      <td>R27IB4BRKO71I0</td>\n",
       "      <td>2</td>\n",
       "      <td>16.0</td>\n",
       "      <td>20.0</td>\n",
       "      <td>N</td>\n",
       "      <td>Y</td>\n",
       "    </tr>\n",
       "    <tr>\n",
       "      <th>1225</th>\n",
       "      <td>RJ86OW12Y4NRL</td>\n",
       "      <td>5</td>\n",
       "      <td>124.0</td>\n",
       "      <td>128.0</td>\n",
       "      <td>N</td>\n",
       "      <td>Y</td>\n",
       "    </tr>\n",
       "    <tr>\n",
       "      <th>1448</th>\n",
       "      <td>R3KRABOWCH6ZE4</td>\n",
       "      <td>1</td>\n",
       "      <td>48.0</td>\n",
       "      <td>65.0</td>\n",
       "      <td>N</td>\n",
       "      <td>Y</td>\n",
       "    </tr>\n",
       "  </tbody>\n",
       "</table>\n",
       "</div>"
      ],
      "text/plain": [
       "           review_id star_rating  helpful_votes  total_votes vine  \\\n",
       "326   R1B4753QMTD8ON           5           32.0         32.0    N   \n",
       "662   R28BVHOEL6GCHZ           5           21.0         21.0    N   \n",
       "1055  R27IB4BRKO71I0           2           16.0         20.0    N   \n",
       "1225   RJ86OW12Y4NRL           5          124.0        128.0    N   \n",
       "1448  R3KRABOWCH6ZE4           1           48.0         65.0    N   \n",
       "\n",
       "     verified_purchase  \n",
       "326                  N  \n",
       "662                  Y  \n",
       "1055                 Y  \n",
       "1225                 Y  \n",
       "1448                 Y  "
      ]
     },
     "execution_count": 7,
     "metadata": {},
     "output_type": "execute_result"
    }
   ],
   "source": [
    "# Step 4\n",
    "filter_4_df = filter_2_df[filter_2_df['vine'] == 'N']\n",
    "filter_4_df.head()"
   ]
  },
  {
   "cell_type": "code",
   "execution_count": 8,
   "id": "d3c68553",
   "metadata": {},
   "outputs": [
    {
     "data": {
      "text/plain": [
       "334"
      ]
     },
     "execution_count": 8,
     "metadata": {},
     "output_type": "execute_result"
    }
   ],
   "source": [
    "# Step 5a - Paid\n",
    "paid_total_reviews = len(filter_3_df) \n",
    "paid_total_reviews"
   ]
  },
  {
   "cell_type": "code",
   "execution_count": 9,
   "id": "4d0407ef",
   "metadata": {},
   "outputs": [
    {
     "data": {
      "text/plain": [
       "139"
      ]
     },
     "execution_count": 9,
     "metadata": {},
     "output_type": "execute_result"
    }
   ],
   "source": [
    "# Step 5b - Paid\n",
    "paid_5star_count = len(filter_3_df[filter_3_df['star_rating'] == '5'])\n",
    "paid_5star_count"
   ]
  },
  {
   "cell_type": "code",
   "execution_count": 10,
   "id": "84567d61",
   "metadata": {},
   "outputs": [
    {
     "data": {
      "text/plain": [
       "0.4161676646706587"
      ]
     },
     "execution_count": 10,
     "metadata": {},
     "output_type": "execute_result"
    }
   ],
   "source": [
    "# Step 5c - Paid\n",
    "paid_5star_percent = paid_5star_count/paid_total_reviews\n",
    "paid_5star_percent"
   ]
  },
  {
   "cell_type": "code",
   "execution_count": 11,
   "id": "01d5ed5d",
   "metadata": {},
   "outputs": [
    {
     "data": {
      "text/plain": [
       "61614"
      ]
     },
     "execution_count": 11,
     "metadata": {},
     "output_type": "execute_result"
    }
   ],
   "source": [
    "# Step 5a - Unpaid\n",
    "unpaid_total_reviews = len(filter_4_df) \n",
    "unpaid_total_reviews"
   ]
  },
  {
   "cell_type": "code",
   "execution_count": 12,
   "id": "232d7919",
   "metadata": {},
   "outputs": [
    {
     "data": {
      "text/plain": [
       "32665"
      ]
     },
     "execution_count": 12,
     "metadata": {},
     "output_type": "execute_result"
    }
   ],
   "source": [
    "# Step 5b - Unpaid\n",
    "unpaid_5star_count = len(filter_4_df[filter_4_df['star_rating'] == '5'])\n",
    "unpaid_5star_count"
   ]
  },
  {
   "cell_type": "code",
   "execution_count": 13,
   "id": "21db3069",
   "metadata": {},
   "outputs": [
    {
     "data": {
      "text/plain": [
       "0.5301554841432142"
      ]
     },
     "execution_count": 13,
     "metadata": {},
     "output_type": "execute_result"
    }
   ],
   "source": [
    "# Step 5c - Unpaid\n",
    "unpaid_5star_percent = unpaid_5star_count/unpaid_total_reviews\n",
    "unpaid_5star_percent"
   ]
  },
  {
   "cell_type": "code",
   "execution_count": null,
   "id": "ef32f949",
   "metadata": {},
   "outputs": [],
   "source": []
  }
 ],
 "metadata": {
  "kernelspec": {
   "display_name": "Python 3",
   "language": "python",
   "name": "python3"
  },
  "language_info": {
   "codemirror_mode": {
    "name": "ipython",
    "version": 3
   },
   "file_extension": ".py",
   "mimetype": "text/x-python",
   "name": "python",
   "nbconvert_exporter": "python",
   "pygments_lexer": "ipython3",
   "version": "3.8.8"
  }
 },
 "nbformat": 4,
 "nbformat_minor": 5
}
